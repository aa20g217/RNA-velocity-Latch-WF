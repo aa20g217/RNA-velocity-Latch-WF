{
 "cells": [
  {
   "cell_type": "code",
   "execution_count": null,
   "id": "509f20fd-a125-40aa-adfa-b51ed6074a8d",
   "metadata": {},
   "outputs": [],
   "source": [
    "#from urllib.request import urlretrieve\n",
    "#urlretrieve(\"http://pklab.med.harvard.edu/velocyto/hgForebrainGlut/hgForebrainGlut.loom\", \"hgForebrainGlut.loom\")"
   ]
  },
  {
   "cell_type": "markdown",
   "id": "1ae506db-0c75-45c9-b1ac-54463f30e96f",
   "metadata": {},
   "source": [
    "# RNA velocity analysis with scVelo\n",
    "##### RNA velocity analysis allows us to infer transcriptional dynamics that are not directly observed in a scRNA-seq experiment using a mathematical model of transcriptional kinetics. We can use RNA velocity to determine if a gene of interest is being induced or repressed in a give cell population of interest. Moreover, we can extrapolate this information to predict cell fate decision via pseudotime trajectories."
   ]
  },
  {
   "cell_type": "code",
   "execution_count": null,
   "id": "3d79d955-8cee-410f-b4ca-bc0b8194806c",
   "metadata": {},
   "outputs": [],
   "source": [
    "import os\n",
    "import shutil\n",
    "\n",
    "dir = 'figures'\n",
    "if os.path.exists(dir):\n",
    "    shutil.rmtree(dir)\n",
    "os.makedirs(dir)"
   ]
  },
  {
   "cell_type": "code",
   "execution_count": null,
   "id": "f3c67f33-e2c6-4e6a-8ed9-1a8cb38bb0c2",
   "metadata": {},
   "outputs": [],
   "source": [
    "import numpy as np\n",
    "import pandas as pd\n",
    "import scanpy as sc\n",
    "import scvelo as scv\n",
    "\n",
    "#scv.logging.print_version()\n",
    "scv.settings.verbosity = 2  # show errors(0), warnings(1), info(2), hints(3)\n",
    "scv.settings.presenter_view = True  # set max width size for presenter view\n",
    "scv.settings.set_figure_params('scvelo')  # for beautified visualization\n",
    "#jupyter nbconvert --no-input --to html Untitled.ipynb \n",
    "#papermill Untitled.ipynb mynotebook_output.ipynb"
   ]
  },
  {
   "cell_type": "markdown",
   "id": "0586a358-87e0-493c-874e-6dcc66df4caf",
   "metadata": {},
   "source": [
    "# 1. Standard pre-processing for scRNA-seq\n",
    "##### This filters cells with low counts of spliced/unspliced mRNA molecules, and keeps the top 2000 highly variable genes."
   ]
  },
  {
   "cell_type": "code",
   "execution_count": null,
   "id": "6dc996f2-fb47-4aab-8523-85b4dac5ba21",
   "metadata": {
    "scrolled": true,
    "tags": [
     "parameters"
    ]
   },
   "outputs": [],
   "source": [
    "#variables\n",
    "fieName=''\n",
    "clusters=''\n",
    "basis=\"\"\n",
    "\"\"\"\n",
    "fieName='hgForebrainGlut.loom'\n",
    "new_cluster_names=\"\"\n",
    "basis=\"tsne\"\n",
    "clusters='Clusters'\n",
    "\"\"\""
   ]
  },
  {
   "cell_type": "code",
   "execution_count": null,
   "id": "9a1d1554-4372-4dcb-9c9a-ffb014f2c9be",
   "metadata": {},
   "outputs": [],
   "source": [
    "new_cluster_names=\"\"\n",
    "adata = scv.read(fieName)\n",
    "adata.var_names_make_unique()\n",
    "\n",
    "# standard pre-processing for scRNA-seq\n",
    "scv.pp.filter_and_normalize(adata, min_shared_counts=20, n_top_genes=2000) #this filters cells with low counts of spliced/unspliced mRNA molecules, and keeps the top 2000 highly variable genes\n",
    "scv.pp.moments(adata, n_pcs=30, n_neighbors=30)"
   ]
  },
  {
   "cell_type": "code",
   "execution_count": null,
   "id": "75d6f187-b501-4ce9-b8de-250b09bd1160",
   "metadata": {},
   "outputs": [],
   "source": [
    "## This section is for changing the nomenclature of the predefined numerical clusters in the original file\n",
    "#new_cluster_names=\"Radial glia 1,Radial glia 2,Neuroblast,Immature Neuron 1,Immature Neuron 2,Neuron 1,Neuron 2\"\n",
    "\n",
    "if new_cluster_names!=\"\":\n",
    "\n",
    "    new_cluster_names=new_cluster_names.split(',')\n",
    "    print(new_cluster_names)\n",
    "    \"\"\"new_cluster_names = ['Radial glia 1', 'Radial glia 2',\n",
    "        'Neuroblast',\n",
    "        'Immature Neuron 1', 'Immature Neuron 2',\n",
    "        'Neuron 1', 'Neuron 2']\"\"\"\n",
    "\n",
    "    adata.obs[clusters]=adata.obs[clusters].astype('category')\n",
    "    adata.rename_categories(clusters, new_cluster_names)\n",
    "    \n",
    "newNames = np.array(adata.obs[clusters])\n",
    "adata.obs['Cell_types'] = newNames\n"
   ]
  },
  {
   "cell_type": "code",
   "execution_count": null,
   "id": "d9d8b72d-f76b-40dc-b7c2-1474f11a5719",
   "metadata": {},
   "outputs": [],
   "source": [
    "## 1.1 Spliced/unspliced proprtions."
   ]
  },
  {
   "cell_type": "code",
   "execution_count": null,
   "id": "2eb910b7-b0b3-4a79-a027-55f2539869a3",
   "metadata": {},
   "outputs": [],
   "source": [
    "#scv.pl.proportions(adata, groupby='Cell_types',save='spliced_unspliced_prop.png')"
   ]
  },
  {
   "cell_type": "markdown",
   "id": "1483e879-e0e8-4a2b-8314-1177b761c2ff",
   "metadata": {},
   "source": [
    "# 2. Estimate RNA velocity and latent time"
   ]
  },
  {
   "cell_type": "code",
   "execution_count": null,
   "id": "83bf4394-fa95-4af9-b79c-89cdb5965d55",
   "metadata": {},
   "outputs": [],
   "source": [
    "# Estimate RNA velocity and latent time\n",
    "scv.tl.recover_dynamics(adata)\n",
    "scv.tl.velocity(adata, mode='dynamical')\n",
    "scv.tl.velocity_graph(adata)\n",
    "scv.tl.recover_latent_time(adata)\n",
    "scv.tl.umap(adata)\n",
    "scv.tl.tsne(adata)"
   ]
  },
  {
   "cell_type": "markdown",
   "id": "7fc54a83-464d-421b-8f26-a038988029fa",
   "metadata": {},
   "source": [
    "# 3. Visualization\n",
    "### 3.1 Visualize the velocities in UMAP embedding and color the cells by the cluster"
   ]
  },
  {
   "cell_type": "code",
   "execution_count": null,
   "id": "ceeb2eac-0a3d-4ad0-ba4e-5e6a83655322",
   "metadata": {},
   "outputs": [],
   "source": [
    "scv.pl.velocity_embedding(adata, arrow_length=3, basis=basis,color = 'Cell_types', legend_loc = 'on data', arrow_size=1.4,legend_fontsize=10,save='velocity_umap.png', dpi=150)"
   ]
  },
  {
   "cell_type": "markdown",
   "id": "3d39fd12-c850-4f11-8bb1-cb3b880fa91a",
   "metadata": {},
   "source": [
    "### 3.2 Visualize the velocities in UMAP embedding with latent time. The latent time represents the cell’s internal clock and approximates the real time experienced by cells as they differentiate."
   ]
  },
  {
   "cell_type": "code",
   "execution_count": null,
   "id": "2b68e5c1-17df-4c42-8e79-857e8cfe63c9",
   "metadata": {},
   "outputs": [],
   "source": [
    "Colorss=[\"#E41A1C\",\"#377EB8\",\"#4DAF4A\",\"#984EA3\",\"#FF7F00\",\"#FFFF33\",\"#A65628\",\"#F781BF\"]\n",
    "# Generate plot with UMAP and latent time\n",
    "scv.pl.velocity_embedding_stream(adata,basis=basis,save='umap_latent_time.png',color=\"latent_time\",fontsize=20,legend_fontsize=20,min_mass=2,color_map=\"plasma\")"
   ]
  },
  {
   "cell_type": "markdown",
   "id": "894bc2da-9de8-4158-a0c3-51b65c9b4e2b",
   "metadata": {},
   "source": [
    "### 3.3 Visulize the latent time for each cluster using a violin plot."
   ]
  },
  {
   "cell_type": "code",
   "execution_count": null,
   "id": "1d4c4102-3fb4-49c9-82e8-124248dbadb0",
   "metadata": {},
   "outputs": [],
   "source": [
    "sc.pl.violin(adata, save=\"_prop.png\",keys='latent_time',groupby=\"Cell_types\")"
   ]
  },
  {
   "cell_type": "markdown",
   "id": "89789d6a-623d-4708-8bd3-43302eb55600",
   "metadata": {},
   "source": [
    "# 4.Highly dynamic genes (HDG)\n",
    "##### Rank genes for velocity characterizing groups. This applies a differential expression test (Welch t-test with overestimated variance to be conservative) on velocity expression, to find genes in a cluster that show dynamics that is transcriptionally regulated differently compared to all other clusters (e.g. induction in that cluster and homeostasis in remaining population). If no clusters are given, it priorly computes velocity clusters by applying louvain modularity on velocity expression."
   ]
  },
  {
   "cell_type": "code",
   "execution_count": null,
   "id": "4b303bfc-4e9f-4697-864e-27517f85e6db",
   "metadata": {},
   "outputs": [],
   "source": [
    "scv.tl.rank_velocity_genes(adata, groupby='Cell_types', min_corr=.3)\n",
    "df = scv.DataFrame(adata.uns['rank_velocity_genes']['names'])\n",
    "df.to_csv('./figures/Highly-dynamic-genes.csv')\n",
    "df.head()"
   ]
  },
  {
   "cell_type": "markdown",
   "id": "4fc7733d-df45-4b64-8e4f-7be4b1d868e5",
   "metadata": {},
   "source": [
    "### 4.1 Scatter Plot: For top 5 of every cell type\n",
    "##### Maximum 20 Genes"
   ]
  },
  {
   "cell_type": "code",
   "execution_count": null,
   "id": "3a4845ff-41c6-417a-82a2-cc22971520d8",
   "metadata": {},
   "outputs": [],
   "source": [
    "geneList=[]\n",
    "for column in df.head():\n",
    "    geneList=geneList+df.head()[column].tolist()\n",
    "    if len(geneList)>19:\n",
    "        break\n",
    "scv.pl.scatter(adata, basis=geneList,save=\"scatterPlot__HDG.png\", ncols = 5, color = 'Cell_types', figsize = (14,14),frameon=False)"
   ]
  },
  {
   "cell_type": "markdown",
   "id": "bdb8bb1d-265d-4371-bdae-044ef9af3709",
   "metadata": {},
   "source": [
    "### 4.2 Heatmap\n",
    "##### Expression of these top 5 genes (for every cell type) in each cell sorted with their latent time. "
   ]
  },
  {
   "cell_type": "code",
   "execution_count": null,
   "id": "6528df8b-2587-44e3-9774-1b0e6dfeab2c",
   "metadata": {},
   "outputs": [],
   "source": [
    "scv.pl.heatmap(adata, var_names=geneList, save=\"heatMap__HDG.png\",sortby='latent_time', col_color='Cell_types', n_convolve=100,figsize=(16,8),yticklabels=True,sort=True,colorbar=True,show=True,layer=\"count\")"
   ]
  },
  {
   "cell_type": "markdown",
   "id": "c46d4c92-f03d-49d5-b4b9-61ce3e73e095",
   "metadata": {},
   "source": [
    "# 5. Top-likelihood genes (TLG)\n",
    "##### Driver genes display pronounced dynamic behavior and are systematically detected via their characterization by high likelihoods in the dynamic model."
   ]
  },
  {
   "cell_type": "code",
   "execution_count": null,
   "id": "d6e91949-fc77-4dd2-b65c-f46182e48e1a",
   "metadata": {},
   "outputs": [],
   "source": [
    "top_genes = adata.var['fit_likelihood'].sort_values(ascending=False).index[:100]\n",
    "df = adata.var['fit_likelihood'].sort_values(ascending=False)[:100]\n",
    "df.to_csv('./figures/Top-likelihood-genes.csv')\n",
    "\n",
    "df.head()"
   ]
  },
  {
   "cell_type": "markdown",
   "id": "a4edabdf-0157-41e8-828a-a1ec2262aaec",
   "metadata": {},
   "source": [
    "### 5.1 Scatter Plot: Top 20"
   ]
  },
  {
   "cell_type": "code",
   "execution_count": null,
   "id": "d5bff337-4440-4b2e-a094-93f3754f971a",
   "metadata": {},
   "outputs": [],
   "source": [
    "scv.pl.scatter(adata, basis=top_genes[:20], save=\"scatterPlot__TLG.png\",ncols = 5, color = 'Cell_types', figsize = (14,14),frameon=False)"
   ]
  },
  {
   "cell_type": "markdown",
   "id": "73d5b09c-e3a0-4e5d-8a77-814681916ae3",
   "metadata": {},
   "source": [
    "### 5.2 Heatmap\n",
    "##### Expression of these top 20 genes in each cell sorted with their latent time. "
   ]
  },
  {
   "cell_type": "code",
   "execution_count": null,
   "id": "9f843349-6fc5-4f18-afc6-877448fe3b2c",
   "metadata": {},
   "outputs": [],
   "source": [
    "scv.pl.heatmap(adata, var_names=top_genes[:20], save=\"heatmap__TLG.png\",sortby='latent_time', col_color='Cell_types', n_convolve=100,figsize=(16,8),yticklabels=True,sort=True,colorbar=True,show=True,layer=\"count\")"
   ]
  }
 ],
 "metadata": {
  "kernelspec": {
   "display_name": "Python 3 (ipykernel)",
   "language": "python",
   "name": "python3"
  },
  "language_info": {
   "codemirror_mode": {
    "name": "ipython",
    "version": 3
   },
   "file_extension": ".py",
   "mimetype": "text/x-python",
   "name": "python",
   "nbconvert_exporter": "python",
   "pygments_lexer": "ipython3",
   "version": "3.9.7"
  }
 },
 "nbformat": 4,
 "nbformat_minor": 5
}
